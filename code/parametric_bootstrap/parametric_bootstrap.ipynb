{
 "cells": [
  {
   "cell_type": "code",
   "execution_count": null,
   "metadata": {
    "collapsed": false
   },
   "outputs": [],
   "source": [
    "import numpy as np\n",
    "from selection.algorithms.lasso import instance\n",
    "from selection.algorithms.forward_step import forward_stepwise\n",
    "np.random.seed(0)\n",
    "\n"
   ]
  },
  {
   "cell_type": "markdown",
   "metadata": {},
   "source": [
    "## 10th step, snr=5"
   ]
  },
  {
   "cell_type": "code",
   "execution_count": null,
   "metadata": {
    "collapsed": false
   },
   "outputs": [],
   "source": [
    "X, y, beta, active, sigma = instance(n=100, p=40, snr=5, rho=0.3)\n",
    "n, p = X.shape\n",
    "FS = forward_stepwise(X, y, covariance=sigma**2 * np.identity(n))\n",
    "for _ in range(10):\n",
    "    FS.next()\n",
    "\n",
    "FS.X.shape, FS.Y.shape"
   ]
  },
  {
   "cell_type": "code",
   "execution_count": null,
   "metadata": {
    "collapsed": false
   },
   "outputs": [],
   "source": [
    "con = FS.constraints()\n",
    "con.linear_part.shape"
   ]
  },
  {
   "cell_type": "code",
   "execution_count": null,
   "metadata": {
    "collapsed": true
   },
   "outputs": [],
   "source": [
    "P = np.dot(FS.X[:,FS.variables[:-1]], np.linalg.pinv(FS.X[:,FS.variables[:-1]]))\n",
    "R = np.identity(n) - P"
   ]
  },
  {
   "cell_type": "code",
   "execution_count": null,
   "metadata": {
    "collapsed": true
   },
   "outputs": [],
   "source": [
    "def null_sample(sigma, R, PY):\n",
    "    return sigma * np.dot(R, np.random.standard_normal(n)) + PY"
   ]
  },
  {
   "cell_type": "code",
   "execution_count": null,
   "metadata": {
    "collapsed": false
   },
   "outputs": [],
   "source": [
    "def acceptance(con, sigma, R, PY):\n",
    "    idx = 0\n",
    "    while True:\n",
    "        Z = null_sample(sigma, R, PY)\n",
    "        if con(Z):\n",
    "            break\n",
    "        idx += 1\n",
    "         \n",
    "    return idx\n",
    "PY = np.dot(P, FS.Y)\n",
    "acceptance(con, sigma, R, PY)"
   ]
  },
  {
   "cell_type": "code",
   "execution_count": null,
   "metadata": {
    "collapsed": false
   },
   "outputs": [],
   "source": [
    "[acceptance(con, sigma, R, PY) for _ in range(10)]"
   ]
  },
  {
   "cell_type": "code",
   "execution_count": null,
   "metadata": {
    "collapsed": false
   },
   "outputs": [],
   "source": [
    "FS.variables"
   ]
  },
  {
   "cell_type": "markdown",
   "metadata": {},
   "source": [
    "Let's make a function to see how many accept reject steps it takes."
   ]
  },
  {
   "cell_type": "code",
   "execution_count": null,
   "metadata": {
    "collapsed": false
   },
   "outputs": [],
   "source": [
    "del([X,y,FS,R,P,con,beta,active,sigma])"
   ]
  },
  {
   "cell_type": "code",
   "execution_count": null,
   "metadata": {
    "collapsed": true
   },
   "outputs": [],
   "source": [
    "def howlong(n=100, p=40, snr=5, rho=0.3, maxstep=10):\n",
    "    X, y, beta, active, sigma = instance(n=n, p=p, snr=snr, rho=rho)\n",
    "    n, p = X.shape\n",
    "    FS = forward_stepwise(X, y, covariance=sigma**2 * np.identity(n))\n",
    "    for _ in range(maxstep):\n",
    "        FS.next()\n",
    "\n",
    "    con = FS.constraints()\n",
    "    P = np.dot(FS.X[:,FS.variables[:-1]], np.linalg.pinv(FS.X[:,FS.variables[:-1]]))\n",
    "    R = np.identity(n) - P\n",
    "    PY = np.dot(P, FS.Y)\n",
    "    \n",
    "    return acceptance(con, sigma, R, PY)"
   ]
  },
  {
   "cell_type": "markdown",
   "metadata": {},
   "source": [
    "## snr=4"
   ]
  },
  {
   "cell_type": "code",
   "execution_count": null,
   "metadata": {
    "collapsed": false
   },
   "outputs": [],
   "source": [
    "[howlong(snr=4) for _ in range(10)]"
   ]
  },
  {
   "cell_type": "markdown",
   "metadata": {},
   "source": [
    "## p=60, snr=5"
   ]
  },
  {
   "cell_type": "code",
   "execution_count": null,
   "metadata": {
    "collapsed": false
   },
   "outputs": [],
   "source": [
    "[howlong(snr=5, p=60) for _ in range(10)]"
   ]
  },
  {
   "cell_type": "markdown",
   "metadata": {},
   "source": [
    "## p=60, snr=5, 12th step"
   ]
  },
  {
   "cell_type": "code",
   "execution_count": null,
   "metadata": {
    "collapsed": false
   },
   "outputs": [],
   "source": [
    "[howlong(snr=5, p=60, maxstep=12) for _ in range(10)]"
   ]
  },
  {
   "cell_type": "markdown",
   "metadata": {},
   "source": [
    "## p=80, snr=5"
   ]
  },
  {
   "cell_type": "code",
   "execution_count": null,
   "metadata": {
    "collapsed": false
   },
   "outputs": [],
   "source": [
    "[howlong(snr=5, p=80) for _ in range(10)]"
   ]
  },
  {
   "cell_type": "markdown",
   "metadata": {},
   "source": [
    "## p=80, snr=4"
   ]
  },
  {
   "cell_type": "code",
   "execution_count": null,
   "metadata": {
    "collapsed": false
   },
   "outputs": [],
   "source": [
    "[howlong(snr=4, p=80) for _ in range(10)]"
   ]
  },
  {
   "cell_type": "markdown",
   "metadata": {},
   "source": [
    "## p=200, snr=5"
   ]
  },
  {
   "cell_type": "code",
   "execution_count": null,
   "metadata": {
    "collapsed": false
   },
   "outputs": [],
   "source": [
    "howlong(snr=5, p=200)"
   ]
  },
  {
   "cell_type": "markdown",
   "metadata": {},
   "source": [
    "## p=200, snr=7, 8th step -- the first noise variable when selection works perfectly!"
   ]
  },
  {
   "cell_type": "code",
   "execution_count": null,
   "metadata": {
    "collapsed": false
   },
   "outputs": [],
   "source": [
    "[howlong(snr=7, p=200, maxstep=8) for _ in range(10)]"
   ]
  },
  {
   "cell_type": "code",
   "execution_count": null,
   "metadata": {
    "collapsed": true
   },
   "outputs": [],
   "source": [
    "## p=200, snr=7, 9th step"
   ]
  },
  {
   "cell_type": "code",
   "execution_count": null,
   "metadata": {
    "collapsed": false
   },
   "outputs": [],
   "source": [
    "[howlong(snr=7, p=200, maxstep=9) for _ in range(10)]"
   ]
  },
  {
   "cell_type": "markdown",
   "metadata": {},
   "source": [
    "## p=200, snr=7, 10th step"
   ]
  },
  {
   "cell_type": "code",
   "execution_count": null,
   "metadata": {
    "collapsed": false
   },
   "outputs": [],
   "source": [
    "[howlong(snr=7, p=200, maxstep=10) for _ in range(10)]"
   ]
  },
  {
   "cell_type": "markdown",
   "metadata": {},
   "source": [
    "## Data for Rob"
   ]
  },
  {
   "cell_type": "code",
   "execution_count": null,
   "metadata": {
    "collapsed": false
   },
   "outputs": [],
   "source": [
    "n, p, snr, rho = 100, 200, 7, 0.3\n",
    "np.random.seed(0)\n",
    "X, y, beta, active, sigma = instance(n=n, p=p, snr=snr, rho=rho)\n",
    "np.savetxt(\"X_100_200.csv\", X, delimiter=',')\n",
    "np.savetxt(\"y_100.csv\", y, delimiter=',')\n",
    "np.savetxt(\"sigma.csv\", np.array([sigma]), delimiter=',')\n",
    "n, p = X.shape\n",
    "FS = forward_stepwise(X, y, covariance=sigma**2 * np.identity(n))\n",
    "for _ in range(7):\n",
    "    FS.next()\n",
    "\n",
    "con = FS.constraints()\n",
    "np.savetxt(\"A_step7.csv\", con.linear_part, delimiter=',')\n",
    "P = np.dot(FS.X[:,FS.variables], np.linalg.pinv(FS.X[:,FS.variables]))\n",
    "R = np.identity(n) - P\n",
    "PY = np.dot(P, FS.Y)\n",
    "    \n",
    "counts = np.array([acceptance(con, sigma, R, PY) for _ in range(200)])\n",
    "print 'acceptance rate:', 1./np.mean(counts+1)"
   ]
  },
  {
   "cell_type": "code",
   "execution_count": null,
   "metadata": {
    "collapsed": false
   },
   "outputs": [],
   "source": [
    "FS.next()\n",
    "con = FS.constraints()\n",
    "np.savetxt(\"A_step8.csv\", con.linear_part, delimiter=',')\n",
    "\n",
    "P = np.dot(FS.X[:,FS.variables], np.linalg.pinv(FS.X[:,FS.variables]))\n",
    "R = np.identity(n) - P\n",
    "PY = np.dot(P, FS.Y)\n",
    "    \n",
    "counts = np.array([acceptance(con, sigma, R, PY) for _ in range(200)])\n",
    "print 'acceptance rate:', 1. / np.mean(counts+1)\n",
    "np.savetxt(\"variables.csv\", np.array(FS.variables)+1, delimiter=',')"
   ]
  },
  {
   "cell_type": "code",
   "execution_count": null,
   "metadata": {
    "collapsed": false
   },
   "outputs": [],
   "source": [
    "FS.next()\n",
    "con = FS.constraints()\n",
    "np.savetxt(\"A_step9.csv\", con.linear_part, delimiter=',')\n",
    "\n",
    "\n",
    "P = np.dot(FS.X[:,FS.variables], np.linalg.pinv(FS.X[:,FS.variables]))\n",
    "R = np.identity(n) - P\n",
    "PY = np.dot(P, FS.Y)\n",
    "    \n",
    "counts = np.array([acceptance(con, sigma, R, PY) for _ in range(200)])\n",
    "print 'acceptance rate:', 1. / np.mean(counts+1)\n",
    "np.savetxt(\"variables.csv\", np.array(FS.variables)+1, delimiter=',')"
   ]
  },
  {
   "cell_type": "code",
   "execution_count": null,
   "metadata": {
    "collapsed": false
   },
   "outputs": [],
   "source": [
    "FS.next()\n",
    "con = FS.constraints()\n",
    "np.savetxt(\"A_step10.csv\", con.linear_part, delimiter=',')\n",
    "\n",
    "\n",
    "P = np.dot(FS.X[:,FS.variables], np.linalg.pinv(FS.X[:,FS.variables]))\n",
    "R = np.identity(n) - P\n",
    "PY = np.dot(P, FS.Y)\n",
    "    \n",
    "counts = np.array([acceptance(con, sigma, R, PY) for _ in range(200)])\n",
    "print 'acceptance rate:', 1. / np.mean(counts+1)\n",
    "np.savetxt(\"variables.csv\", np.array(FS.variables)+1, delimiter=',')"
   ]
  },
  {
   "cell_type": "code",
   "execution_count": null,
   "metadata": {
    "collapsed": false
   },
   "outputs": [],
   "source": [
    "FS.next()\n",
    "con = FS.constraints()\n",
    "np.savetxt(\"A_step11.csv\", con.linear_part, delimiter=',')\n",
    "\n",
    "\n",
    "P = np.dot(FS.X[:,FS.variables], np.linalg.pinv(FS.X[:,FS.variables]))\n",
    "R = np.identity(n) - P\n",
    "PY = np.dot(P, FS.Y)\n",
    "    \n",
    "counts = np.array([acceptance(con, sigma, R, PY) for _ in range(200)])\n",
    "print 'acceptance rate:', 1. / np.mean(counts+1)\n",
    "np.savetxt(\"variables.csv\", np.array(FS.variables)+1, delimiter=',')"
   ]
  },
  {
   "cell_type": "code",
   "execution_count": null,
   "metadata": {
    "collapsed": false
   },
   "outputs": [],
   "source": [
    "FS.next()\n",
    "con = FS.constraints()\n",
    "np.savetxt(\"A_step12.csv\", con.linear_part, delimiter=',')\n",
    "\n",
    "\n",
    "P = np.dot(FS.X[:,FS.variables], np.linalg.pinv(FS.X[:,FS.variables]))\n",
    "R = np.identity(n) - P\n",
    "PY = np.dot(P, FS.Y)\n",
    "    \n",
    "counts = np.array([acceptance(con, sigma, R, PY) for _ in range(200)])\n",
    "print 'acceptance rate:', 1. / np.mean(counts+1)\n",
    "np.savetxt(\"variables.csv\", np.array(FS.variables)+1, delimiter=',')"
   ]
  },
  {
   "cell_type": "markdown",
   "metadata": {},
   "source": [
    "## p=200, snr=7, 15th step"
   ]
  },
  {
   "cell_type": "code",
   "execution_count": null,
   "metadata": {
    "collapsed": false
   },
   "outputs": [],
   "source": [
    "# really long time!\n",
    "# [howlong(snr=7, p=200, maxstep=15) for _ in range(10)]"
   ]
  },
  {
   "cell_type": "code",
   "execution_count": null,
   "metadata": {
    "collapsed": true
   },
   "outputs": [],
   "source": []
  }
 ],
 "metadata": {
  "kernelspec": {
   "display_name": "Python 2",
   "language": "python",
   "name": "python2"
  },
  "language_info": {
   "codemirror_mode": {
    "name": "ipython",
    "version": 2
   },
   "file_extension": ".py",
   "mimetype": "text/x-python",
   "name": "python",
   "nbconvert_exporter": "python",
   "pygments_lexer": "ipython2",
   "version": "2.7.9"
  }
 },
 "nbformat": 4,
 "nbformat_minor": 0
}
