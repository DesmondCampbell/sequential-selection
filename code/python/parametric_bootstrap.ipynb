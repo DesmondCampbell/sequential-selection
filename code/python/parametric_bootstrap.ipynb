{
 "cells": [
  {
   "cell_type": "code",
   "execution_count": 1,
   "metadata": {
    "collapsed": false
   },
   "outputs": [],
   "source": [
    "import numpy as np\n",
    "from selection.algorithms.lasso import instance\n",
    "from selection.algorithms.forward_step import forward_stepwise\n",
    "np.random.seed(0)\n",
    "from compute_pvalues import compute_pvalues"
   ]
  },
  {
   "cell_type": "markdown",
   "metadata": {},
   "source": [
    "## 10th step, snr=5"
   ]
  },
  {
   "cell_type": "code",
   "execution_count": 2,
   "metadata": {
    "collapsed": false
   },
   "outputs": [
    {
     "data": {
      "text/plain": [
       "((100, 40), (100,))"
      ]
     },
     "execution_count": 2,
     "metadata": {},
     "output_type": "execute_result"
    }
   ],
   "source": [
    "X, y, beta, active, sigma = instance(n=100, p=40, snr=5, rho=0.3)\n",
    "n, p = X.shape\n",
    "FS = forward_stepwise(X, y, covariance=sigma**2 * np.identity(n))\n",
    "for _ in range(10):\n",
    "    FS.next()\n",
    "\n",
    "FS.X.shape, FS.Y.shape"
   ]
  },
  {
   "cell_type": "code",
   "execution_count": 3,
   "metadata": {
    "collapsed": false
   },
   "outputs": [
    {
     "data": {
      "text/plain": [
       "(700, 100)"
      ]
     },
     "execution_count": 3,
     "metadata": {},
     "output_type": "execute_result"
    }
   ],
   "source": [
    "con = FS.constraints()\n",
    "con.linear_part.shape"
   ]
  },
  {
   "cell_type": "code",
   "execution_count": 4,
   "metadata": {
    "collapsed": true
   },
   "outputs": [],
   "source": [
    "P = np.dot(FS.X[:,FS.variables[:-1]], np.linalg.pinv(FS.X[:,FS.variables[:-1]]))\n",
    "R = np.identity(n) - P"
   ]
  },
  {
   "cell_type": "code",
   "execution_count": 5,
   "metadata": {
    "collapsed": true
   },
   "outputs": [],
   "source": [
    "def null_sample(sigma, R, PY):\n",
    "    return sigma * np.dot(R, np.random.standard_normal(n)) + PY"
   ]
  },
  {
   "cell_type": "code",
   "execution_count": 6,
   "metadata": {
    "collapsed": false
   },
   "outputs": [
    {
     "data": {
      "text/plain": [
       "391"
      ]
     },
     "execution_count": 6,
     "metadata": {},
     "output_type": "execute_result"
    }
   ],
   "source": [
    "def acceptance(con, sigma, R, PY):\n",
    "    idx = 0\n",
    "    while True:\n",
    "        Z = null_sample(sigma, R, PY)\n",
    "        if con(Z):\n",
    "            break\n",
    "        idx += 1\n",
    "         \n",
    "    return idx\n",
    "PY = np.dot(P, FS.Y)\n",
    "acceptance(con, sigma, R, PY)"
   ]
  },
  {
   "cell_type": "code",
   "execution_count": 7,
   "metadata": {
    "collapsed": false
   },
   "outputs": [
    {
     "data": {
      "text/plain": [
       "[94, 172, 43, 32, 145, 65, 380, 40, 52, 226]"
      ]
     },
     "execution_count": 7,
     "metadata": {},
     "output_type": "execute_result"
    }
   ],
   "source": [
    "[acceptance(con, sigma, R, PY) for _ in range(10)]"
   ]
  },
  {
   "cell_type": "code",
   "execution_count": 8,
   "metadata": {
    "collapsed": false
   },
   "outputs": [
    {
     "data": {
      "text/plain": [
       "[3, 6, 5, 2, 7, 1, 4, 30, 11, 13]"
      ]
     },
     "execution_count": 8,
     "metadata": {},
     "output_type": "execute_result"
    }
   ],
   "source": [
    "FS.variables"
   ]
  },
  {
   "cell_type": "markdown",
   "metadata": {},
   "source": [
    "Let's make a function to see how many accept reject steps it takes."
   ]
  },
  {
   "cell_type": "code",
   "execution_count": 9,
   "metadata": {
    "collapsed": false
   },
   "outputs": [],
   "source": [
    "del([X,y,FS,R,P,con,beta,active,sigma])"
   ]
  },
  {
   "cell_type": "code",
   "execution_count": 10,
   "metadata": {
    "collapsed": true
   },
   "outputs": [],
   "source": [
    "def howlong(n=100, p=40, snr=5, rho=0.3, maxstep=10):\n",
    "    X, y, beta, active, sigma = instance(n=n, p=p, snr=snr, rho=rho)\n",
    "    n, p = X.shape\n",
    "    FS = forward_stepwise(X, y, covariance=sigma**2 * np.identity(n))\n",
    "    for _ in range(maxstep):\n",
    "        FS.next()\n",
    "\n",
    "    con = FS.constraints()\n",
    "    P = np.dot(FS.X[:,FS.variables[:-1]], np.linalg.pinv(FS.X[:,FS.variables[:-1]]))\n",
    "    R = np.identity(n) - P\n",
    "    PY = np.dot(P, FS.Y)\n",
    "    \n",
    "    return acceptance(con, sigma, R, PY)"
   ]
  },
  {
   "cell_type": "markdown",
   "metadata": {},
   "source": [
    "## snr=4"
   ]
  },
  {
   "cell_type": "code",
   "execution_count": 11,
   "metadata": {
    "collapsed": false
   },
   "outputs": [
    {
     "data": {
      "text/plain": [
       "[37, 187, 4267, 801, 90, 188, 63874, 107, 82, 1812]"
      ]
     },
     "execution_count": 11,
     "metadata": {},
     "output_type": "execute_result"
    }
   ],
   "source": [
    "[howlong(snr=4) for _ in range(10)]"
   ]
  },
  {
   "cell_type": "markdown",
   "metadata": {},
   "source": [
    "## p=60, snr=5"
   ]
  },
  {
   "cell_type": "code",
   "execution_count": 12,
   "metadata": {
    "collapsed": false
   },
   "outputs": [
    {
     "data": {
      "text/plain": [
       "[1799, 1039, 142, 400, 118, 2944, 359, 250, 357, 727]"
      ]
     },
     "execution_count": 12,
     "metadata": {},
     "output_type": "execute_result"
    }
   ],
   "source": [
    "[howlong(snr=5, p=60) for _ in range(10)]"
   ]
  },
  {
   "cell_type": "markdown",
   "metadata": {},
   "source": [
    "## p=60, snr=5, 12th step"
   ]
  },
  {
   "cell_type": "code",
   "execution_count": 13,
   "metadata": {
    "collapsed": false
   },
   "outputs": [
    {
     "data": {
      "text/plain": [
       "[56, 24157, 594, 2179, 2304, 403, 8986, 5950, 181, 242]"
      ]
     },
     "execution_count": 13,
     "metadata": {},
     "output_type": "execute_result"
    }
   ],
   "source": [
    "[howlong(snr=5, p=60, maxstep=12) for _ in range(10)]"
   ]
  },
  {
   "cell_type": "markdown",
   "metadata": {},
   "source": [
    "## p=80, snr=5"
   ]
  },
  {
   "cell_type": "code",
   "execution_count": 14,
   "metadata": {
    "collapsed": false
   },
   "outputs": [
    {
     "data": {
      "text/plain": [
       "[43, 375, 427, 100, 233, 626, 682, 494, 517, 19247]"
      ]
     },
     "execution_count": 14,
     "metadata": {},
     "output_type": "execute_result"
    }
   ],
   "source": [
    "[howlong(snr=5, p=80) for _ in range(10)]"
   ]
  },
  {
   "cell_type": "markdown",
   "metadata": {},
   "source": [
    "## p=80, snr=4"
   ]
  },
  {
   "cell_type": "code",
   "execution_count": 15,
   "metadata": {
    "collapsed": false
   },
   "outputs": [
    {
     "data": {
      "text/plain": [
       "[1443, 916, 68, 651, 1255, 8376, 1143, 5319, 2054, 10478]"
      ]
     },
     "execution_count": 15,
     "metadata": {},
     "output_type": "execute_result"
    }
   ],
   "source": [
    "[howlong(snr=4, p=80) for _ in range(10)]"
   ]
  },
  {
   "cell_type": "markdown",
   "metadata": {},
   "source": [
    "## p=200, snr=5"
   ]
  },
  {
   "cell_type": "code",
   "execution_count": 16,
   "metadata": {
    "collapsed": false
   },
   "outputs": [
    {
     "data": {
      "text/plain": [
       "5419"
      ]
     },
     "execution_count": 16,
     "metadata": {},
     "output_type": "execute_result"
    }
   ],
   "source": [
    "howlong(snr=5, p=200)"
   ]
  },
  {
   "cell_type": "markdown",
   "metadata": {},
   "source": [
    "## p=200, snr=7, 8th step -- the first noise variable when selection works perfectly!"
   ]
  },
  {
   "cell_type": "code",
   "execution_count": 17,
   "metadata": {
    "collapsed": false
   },
   "outputs": [
    {
     "data": {
      "text/plain": [
       "[209, 126, 187, 0, 162, 645, 532, 292, 550, 393]"
      ]
     },
     "execution_count": 17,
     "metadata": {},
     "output_type": "execute_result"
    }
   ],
   "source": [
    "[howlong(snr=7, p=200, maxstep=8) for _ in range(10)]"
   ]
  },
  {
   "cell_type": "markdown",
   "metadata": {},
   "source": [
    "## p=200, snr=7, 10th step"
   ]
  },
  {
   "cell_type": "code",
   "execution_count": null,
   "metadata": {
    "collapsed": false
   },
   "outputs": [
    {
     "data": {
      "text/plain": [
       "[7, 10831, 17831, 7242, 2714, 1421, 12, 9645, 2625, 3093]"
      ]
     },
     "execution_count": 18,
     "metadata": {},
     "output_type": "execute_result"
    }
   ],
   "source": [
    "[howlong(snr=7, p=200, maxstep=10) for _ in range(10)]"
   ]
  },
  {
   "cell_type": "markdown",
   "metadata": {},
   "source": [
    "## p=200, snr=7, 15th step"
   ]
  },
  {
   "cell_type": "code",
   "execution_count": null,
   "metadata": {
    "collapsed": false
   },
   "outputs": [],
   "source": [
    "[howlong(snr=7, p=200, maxstep=15) for _ in range(10)]"
   ]
  },
  {
   "cell_type": "code",
   "execution_count": null,
   "metadata": {
    "collapsed": true
   },
   "outputs": [],
   "source": []
  }
 ],
 "metadata": {
  "kernelspec": {
   "display_name": "Python 2",
   "language": "python",
   "name": "python2"
  },
  "language_info": {
   "codemirror_mode": {
    "name": "ipython",
    "version": 2
   },
   "file_extension": ".py",
   "mimetype": "text/x-python",
   "name": "python",
   "nbconvert_exporter": "python",
   "pygments_lexer": "ipython2",
   "version": "2.7.9"
  }
 },
 "nbformat": 4,
 "nbformat_minor": 0
}
